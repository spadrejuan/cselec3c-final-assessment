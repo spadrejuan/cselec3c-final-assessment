{
 "cells": [
  {
   "cell_type": "markdown",
   "metadata": {},
   "source": [
    "# Source Code Notebook\n"
   ]
  },
  {
   "cell_type": "markdown",
   "metadata": {},
   "source": [
    "## Background of the Dataset\n"
   ]
  },
  {
   "cell_type": "markdown",
   "metadata": {},
   "source": [
    "The **Philippine Statistics Authority (PSA)** is the central statistical authority of the Philippines, responsible for collecting, compiling, and disseminating official data across various sectors. Established through the Philippine Statistical Act of 2013, the PSA integrates four previously separate agencies: the National Statistics Office (NSO), the National Statistical Coordination Board (NSCB), the Bureau of Agricultural Statistics (BAS), and the Bureau of Labor and Employment Statistics (BLES). Its primary mission is to provide timely, accurate, and relevant statistics for policy-making, planning, and research.\n",
    "\n",
    "The **Family Income and Expenditure Survey (FIES)** is a nationwide survey of households undertaken every three years. It is the main source of data on family income and expenditure, which include among others, levels of consumption by item of expenditure as well as sources of income in cash and in kind. The results of FIES provide information on the levels of living and disparities in income of Filipino families, as well as their spending patterns. The survey aims to provide a detailed picture of the economic conditions of households, measuring disparities in income and spending patterns across various regions and socio-economic groups. While usually, the FIES is a survey conducted every three years, the 2023 FIES, the dataset used in this project, is the first biennial survey of the FIES. According to an article by Dr. Mapa in July 10, 2023, this change in standard procedure is due to respond to the clamor for more frequent and timely income and expenditure statistics, as well as poverty statistics. The results of the 2023 FIES will provide inputs to the 2023 Official Poverty Statistics, which will aid the government in planning, programming, policy formulation and decision-making.\n",
    "\n",
    "Additional information about the 2023 FIES is that for the first time, the 2023 Geo-enabled Master Sample with sample size of about 180,000 households, which includes separate domains for Maguindanao del Norte and Maguindanao del Sur. Further, the 2023 FIES is the second in the series to implement the Computer-Aided Personal Interviewing (CAPI) system, which replaces the traditional Paper and Pencil Interviewing method. The use of the CAPI system eliminates the manual encoding of data obtained through paper questionnaires. It facilitates the data cleaning as consistency checks, skipping patterns and error detection are already embedded in the system. These features serve as safeguard to data quality and shortens the survey’s timetable of operations. The 2023 FIES Visit 1 was conducted July 9 to July 31 in 2023, while the 2023 FIES Visit 2 was conducted from January 8 to 31 in 2024. Attached here is link used to download the FIES dataset along with the metadata where the questionnaire is located. <https://psada.psa.gov.ph/catalog/FIES/about>\n",
    "\n",
    "The dataset used for this project is found on the **PSADA Microdata Catalogue** accessed here: <https://psada.psa.gov.ph/home>. ALong with the FIES database, there are also numerous databases made open for public use with focuses on ICT, Tourism, Poverty Indicators, Wage Rates, and much more. Do note that you will need to have an account registered to access these resources, and along with the account, you will need to be subjected to the PSADA Microdata Catalogue Terms and Conditions.\n",
    "\n",
    "References:\n",
    "\n",
    "1. <https://rsso01.psa.gov.ph/statistics/fies/about>\n",
    "2. <https://www.psa.gov.ph/statistics/income-expenditure/fies/node/1684059988>\n"
   ]
  },
  {
   "cell_type": "code",
   "execution_count": null,
   "metadata": {},
   "outputs": [],
   "source": [
    "import pandas as pd\n",
    "fies_df = pd.read_csv('datasets/fies_2023_volume1_494887610821.csv')\n",
    "fies_df"
   ]
  },
  {
   "cell_type": "markdown",
   "metadata": {},
   "source": [
    "### Data Dictionary\n"
   ]
  },
  {
   "cell_type": "code",
   "execution_count": null,
   "metadata": {},
   "outputs": [],
   "source": [
    "fies_df.columns"
   ]
  },
  {
   "cell_type": "code",
   "execution_count": 36,
   "metadata": {},
   "outputs": [],
   "source": [
    "fies_column_descriptions = {\n",
    "    'RDMD_ID': 'Unique identifier for the record',\n",
    "    'Region': 'Region code',\n",
    "    'Province': 'Province code',\n",
    "    'Household ID': 'Unique household identifier',\n",
    "    'RECODED PROVINCE': 'Recoded province information',\n",
    "    'Family Size': 'Number of people in the household',\n",
    "    'Salaries/Wages from Regular Employment': 'Income from regular employment',\n",
    "    'Salaries/Wages from Seasonal Employment': 'Income from seasonal employment',\n",
    "    'Income from Salaries and Wages': 'Total income from salaries and wages',\n",
    "    'Net Share of Crops, Fruits, etc. (Tot. Net Value of Share)': 'Net value from crop and fruit share',\n",
    "    'Cash Receipts, Support, etc. from Abroad': 'Cash support received from abroad',\n",
    "    'Cash Receipts, Support, etc. from Domestic Source': 'Cash support received domestically',\n",
    "    'Rentals Received from Non-Agri Lands, etc.': 'Income from land rentals (non-agricultural)',\n",
    "    'Unnamed: 13': 'Unknown or unnamed column',\n",
    "    'Pension and Retirement Benefits': 'Income from pensions and retirement',\n",
    "    'Dividends from Investment': 'Income from dividends',\n",
    "    'Other Sources of Income NEC': 'Other sources of income not elsewhere classified',\n",
    "    'Family Sustenance Activities': 'Income from family sustenance activities',\n",
    "    'Total Received as Gifts': 'Total gifts received by the household',\n",
    "    'Crop Farming and Gardening': 'Income from crop farming and gardening',\n",
    "    'Livestock and Poultry Raising': 'Income from livestock and poultry raising',\n",
    "    'Fishing': 'Income from fishing activities',\n",
    "    'Forestry and Hunting': 'Income from forestry and hunting',\n",
    "    'Wholesale and Retail': 'Income from wholesale and retail business',\n",
    "    'Manufacturing': 'Income from manufacturing activities',\n",
    "    'Transportation, Storage Services': 'Income from transportation and storage services',\n",
    "    'Entrep. Activities NEC': 'Income from entrepreneurial activities (not elsewhere classified)',\n",
    "    'Entrep. Activities NEC.1': 'Income from entrepreneurial activities (additional category 1)',\n",
    "    'Entrep. Activities NEC.2': 'Income from entrepreneurial activities (additional category 2)',\n",
    "    'Hhld, Income from Entrepreneurial Activities, Total': 'Total household income from entrepreneurial activities',\n",
    "    'Losses from EA': 'Losses from entrepreneurial activities',\n",
    "    'Cereal and Cereal Preparations (Total)': 'Expenditure on cereals and cereal preparations',\n",
    "    'Meat and Meat Preparations': 'Expenditure on meat and meat preparations',\n",
    "    'Fish and Marine Products (Total)': 'Expenditure on fish and marine products',\n",
    "    'Dairy Products and Eggs (Total)': 'Expenditure on dairy products and eggs',\n",
    "    'Oils and Fats (Total)': 'Expenditure on oils and fats',\n",
    "    'Fruits and Vegetables': 'Expenditure on fruits and vegetables',\n",
    "    'Vegetables (Total)': 'Expenditure on vegetables',\n",
    "    'Sugar, Jam and Honey (Total)': 'Expenditure on sugar, jam, and honey',\n",
    "    'Food Not Elsewhere Classified (Total)': 'Expenditure on other food items',\n",
    "    'Fruit and vegetable juices': 'Expenditure on fruit and vegetable juices',\n",
    "    'Coffee, Cocoa and Tea (Total)': 'Expenditure on coffee, cocoa, and tea',\n",
    "    'Tea (total)  expenditure': 'Expenditure on tea',\n",
    "    'Cocoa (total)  expenditure': 'Expenditure on cocoa',\n",
    "    'Main Source of Water Supply (2nd visit only)': 'Main source of water supply (second visit)',\n",
    "    'Softdrinks': 'Expenditure on soft drinks',\n",
    "    'Other Non Alcoholic Beverages': 'Expenditure on other non-alcoholic beverages',\n",
    "    'Alcoholic Beverages (Total)': 'Expenditure on alcoholic beverages',\n",
    "    'Tobacco (Total)': 'Expenditure on tobacco products',\n",
    "    'Other Vegetables (Total)': 'Expenditure on other types of vegetables',\n",
    "    'Services_Primary_Goods': 'Expenditure on services and primary goods',\n",
    "    'Alcohol Procduction Services': 'Expenditure on alcohol production services',\n",
    "    'Total Food Consumed at Home (Total)': 'Total food consumed at home',\n",
    "    'Food Regularly Consumed Outside The Home (Total)': 'Food consumed outside the home',\n",
    "    'Hhld, Food': 'Household expenditure on food',\n",
    "    'Clothing, Footwear and Other Wear': 'Expenditure on clothing, footwear, and other wear',\n",
    "    'Housing and water (Total)': 'Expenditure on housing and water',\n",
    "    'Actual House Rent': 'Expenditure on actual house rent',\n",
    "    'Imputed House Rental Value': 'Imputed value of house rental',\n",
    "    'Imputed Housing Benefit Rental Value': 'Imputed value of housing benefit rental',\n",
    "    'House Rent/Rental Value': 'Expenditure on house rent/rental value',\n",
    "    'Furnishings, Household Equipment & Routine Household Mainte': 'Expenditure on furnishings and household equipment',\n",
    "    'Health (Total)': 'Expenditure on health services and products',\n",
    "    'Transportation (Total)': 'Expenditure on transportation',\n",
    "    'Communication (Total)': 'Expenditure on communication services',\n",
    "    'Recreation and Culture (Total)': 'Expenditure on recreation and culture',\n",
    "    'Education (Total)': 'Expenditure on education',\n",
    "    'Insurance': 'Expenditure on insurance',\n",
    "    'Miscellaneous Goods and Services (Total)': 'Expenditure on miscellaneous goods and services',\n",
    "    'Durable Furniture': 'Expenditure on durable furniture',\n",
    "    'Special Family Occasion': 'Expenditure on special family occasions',\n",
    "    'Other Expenditure (inc. Value Consumed, Losses)': 'Other expenditures including losses',\n",
    "    'Other Disbursements': 'Other household disbursements',\n",
    "    'Accomodation Services': 'Expenditure on accommodation services',\n",
    "    'Total Non-Food Expenditure': 'Total non-food expenditure',\n",
    "    'Hhld, Income, Total': 'Total household income',\n",
    "    'Hhld, Expenditures, Total': 'Total household expenditures',\n",
    "    'Total Household Disbursements': 'Total household disbursements',\n",
    "    'Other Receipts': 'Other household receipts',\n",
    "    'Total Receipts': 'Total receipts',\n",
    "    'Psu (Recode)': 'Primary Sampling Unit (recoded)',\n",
    "    'Raising Factor': 'Raising factor for survey results',\n",
    "    'Final Population Weights': 'Final weights for population data',\n",
    "    'Urban / Rural': 'Urban or rural classification',\n",
    "    'Per Capita Income': 'Household per capita income',\n",
    "    'NPCINC': 'National per capita income',\n",
    "    'RPCINC': 'Regional per capita income',\n",
    "    'Per Capita Income Decile (Province)': 'Per capita income decile in the province',\n",
    "    'pPCINC': 'Provincial per capita income decile',\n",
    "    'Per Capita Income Decile (Region with Negros Island Region (NIR))': 'Per capita income decile (region with NIR)',\n",
    "    'Region (with NIR)': 'Region code including NIR'\n",
    "}\n"
   ]
  },
  {
   "cell_type": "code",
   "execution_count": 37,
   "metadata": {},
   "outputs": [],
   "source": [
    "fies_derivations = {\n",
    "    'Total Receipts': 'Total Household Income + Other Receipts',\n",
    "    'Hhld, Income, Total': 'Net Share of Crops, Fruits, etc. + Cash Receipts, Support, etc. from Abroad + Cash Receipts, Support, etc. from Domestic Source + Unnamed + Pension and Retirement Benefits + Dividends from Investment + Other Sources of Income NEC + Family Sustenance Activities + Total Received as Gifts + Household, Income from Entrep Activities, Total + Imputed House Rental Value',\n",
    "    'Hhld, Income from Entrepreneurial Activities, Total': 'Crop Farming and Gardening + Livestock and Poultry Raising + Fishing + Forestry and Hunting + Wholesale and Retail + Manufacturing + Transportation, Storage Services + Entrep. Activities NEC + Entrep. Activities NEC 1 + Entrep. Activities NEC 2',\n",
    "    'Total Household Disbursements': 'Total Household Expenditure + Other Disbursements',\n",
    "    'Hhld, Expenditures, Total': 'Household Food + Total Non-Food Expenditure',\n",
    "    'Hhld, Food': 'Total Food Consumed at Home + Food Regularly Consumed Outside The Home',\n",
    "    'Total Food Consumed at Home (Total)': 'Cereal and Cereal Preparations + Meat and Meat Preparations + Fish and Marine Products + Dairy and Eggs + Oils and Fats + Fruits and Vegetables + Vegetables + Sugar, jam and Honey + Food Not Elsewhere Classified + Fruit and Vegetable Juices + Coffee, Cocoa and Tea + Tea + Cocoa + Main Source of Water Supply + Softdrinks + Other Non Alcoholic Beverages',\n",
    "    'Total Non-Food Expenditure': 'Alcoholic Beverages + Tobacco + Other Vegetables + Services_Primary_Goods + Alcoholic Production Services + Actual House Rent + Furnishings, Household Equipment & Routine Household Maintenance + Health + Transportation + Communication + Recreation and Culture + Education + Insurance + Miscellaneous Goods and Services + Durable Furniture + Special Family Occasion + Other Expenditure + Accommodation Services',\n",
    "}"
   ]
  },
  {
   "cell_type": "code",
   "execution_count": 38,
   "metadata": {},
   "outputs": [],
   "source": [
    "fies_dataset_data_dict = pd.DataFrame({\n",
    "    'Column Name': fies_df.columns,\n",
    "    'Data Type': fies_df.dtypes,\n",
    "    'Non-Null Count': fies_df.notnull().sum(),\n",
    "    'Unique Values': fies_df.nunique(),\n",
    "    'Description': [fies_column_descriptions.get(col, 'No desciption available') for col in fies_df.columns],\n",
    "    'Derivations from other columns': [fies_derivations.get(col, '') for col in fies_df.columns]\n",
    "})\n",
    "\n",
    "fies_dataset_data_dict.to_csv('fies_dataset_data_dict.csv', index=False)"
   ]
  },
  {
   "cell_type": "markdown",
   "metadata": {},
   "source": [
    "## Preliminary Data Analysis\n"
   ]
  },
  {
   "cell_type": "markdown",
   "metadata": {},
   "source": [
    "### Data Cleaning and Wrangling\n"
   ]
  },
  {
   "cell_type": "markdown",
   "metadata": {},
   "source": [
    "Steps:\n",
    "\n",
    "1. Null Values\n",
    "2. Standardize Datatype\n",
    "3. Rename columns to be consistent\n",
    "4. Feature Engineering\n",
    "5. Aggregation\n"
   ]
  },
  {
   "cell_type": "markdown",
   "metadata": {},
   "source": [
    "###\n"
   ]
  },
  {
   "cell_type": "markdown",
   "metadata": {},
   "source": [
    "### Handling Null Values\n"
   ]
  },
  {
   "cell_type": "markdown",
   "metadata": {},
   "source": [
    "From the data dictionary, the Total Household Disbursements column has is the only one with an object datatype, suggesting mixed values of numbers, strings, etc.\n"
   ]
  },
  {
   "cell_type": "code",
   "execution_count": null,
   "metadata": {},
   "outputs": [],
   "source": [
    "def is_numeric(val):\n",
    "    try:\n",
    "        float(val)  # Try converting to float\n",
    "        return True\n",
    "    except (ValueError, TypeError):\n",
    "        return False\n",
    "\n",
    "non_numeric_mask = fies_df['Total Household Disbursements'].map(lambda x: not is_numeric(x))\n",
    "non_numeric_values = fies_df[non_numeric_mask]\n",
    "for row_idx, value in non_numeric_values['Total Household Disbursements'].items():\n",
    "    print(f\"Non-numeric value at Row {row_idx}: {value}\")"
   ]
  },
  {
   "cell_type": "markdown",
   "metadata": {},
   "source": [
    "Upon further inspection, we see that the column contains whitespace values. The next step is to find out if the column has zero values to ascertain that null values and zeroes are different\n"
   ]
  },
  {
   "cell_type": "code",
   "execution_count": null,
   "metadata": {},
   "outputs": [],
   "source": [
    "## Find out if there are zero values in the total_household_disbursements column\n",
    "print(fies_df['Total Household Disbursements'].value_counts().where(fies_df['Total Household Disbursements'] == 0, 1).sum())"
   ]
  },
  {
   "cell_type": "markdown",
   "metadata": {},
   "source": [
    "There are zeroes, which means that the null values cannot be attributed to zero. To preserve data quality, we drop these columns\n"
   ]
  },
  {
   "cell_type": "code",
   "execution_count": null,
   "metadata": {},
   "outputs": [],
   "source": [
    "# Function to check if a value is whitespace or empty\n",
    "def has_whitespace(val):\n",
    "    return isinstance(val, str) and val.strip() == ''\n",
    "\n",
    "whitespace_rows = fies_df.map(has_whitespace).any(axis=1)\n",
    "\n",
    "whitespace_count = whitespace_rows.sum()\n",
    "\n",
    "# Drop the columns \n",
    "fies_df = fies_df[~whitespace_rows]\n",
    "print(f\"Shape after removing rows with whitespaces: {fies_df.shape}\")"
   ]
  },
  {
   "cell_type": "code",
   "execution_count": null,
   "metadata": {},
   "outputs": [],
   "source": [
    "# Display all columns with missing values\n",
    "print(fies_df.isnull().sum())\n"
   ]
  },
  {
   "cell_type": "markdown",
   "metadata": {},
   "source": [
    "No more null values\n"
   ]
  },
  {
   "cell_type": "markdown",
   "metadata": {},
   "source": [
    "### Renaming Columns\n"
   ]
  },
  {
   "cell_type": "code",
   "execution_count": 43,
   "metadata": {},
   "outputs": [],
   "source": [
    "# Renaming columns to follow standard snake_case naming convention\n",
    "fies_df = fies_df.rename(columns={\n",
    "    'RDMD_ID': 'rdmd_id',\n",
    "    'Region': 'region',\n",
    "    'Province': 'province',\n",
    "    'Household ID': 'household_id',\n",
    "    'RECODED PROVINCE': 'recoded_province',\n",
    "    'Family Size': 'family_size',\n",
    "    'Salaries/Wages from Regular Employment': 'regular_salaries_wages',\n",
    "    'Salaries/Wages from Seasonal Employment': 'seasonal_salaries_wages',\n",
    "    'Income from Salaries and Wages': 'total_salaries_wages',\n",
    "    'Net Share of Crops, Fruits, etc. (Tot. Net Value of Share)': 'net_crop_fruit_share',\n",
    "    'Cash Receipts, Support, etc. from Abroad': 'cash_receipts_abroad',\n",
    "    'Cash Receipts, Support, etc. from Domestic Source': 'cash_receipts_domestic',\n",
    "    'Rentals Received from Non-Agri Lands, etc.': 'non_agri_land_rentals',\n",
    "    'Unnamed: 13': 'unnamed_13',\n",
    "    'Pension and Retirement Benefits': 'pension_retirement_benefits',\n",
    "    'Dividends from Investment': 'dividends_from_investment',\n",
    "    'Other Sources of Income NEC': 'other_income_nec',\n",
    "    'Family Sustenance Activities': 'family_sustenance_activities',\n",
    "    'Total Received as Gifts': 'total_gifts_received',\n",
    "    'Crop Farming and Gardening': 'income_crop_farming',\n",
    "    'Livestock and Poultry Raising': 'income_livestock_poultry',\n",
    "    'Fishing': 'income_fishing',\n",
    "    'Forestry and Hunting': 'income_forestry_hunting',\n",
    "    'Wholesale and Retail': 'income_wholesale_retail',\n",
    "    'Manufacturing': 'income_manufacturing',\n",
    "    'Transportation, Storage Services': 'income_transport_storage',\n",
    "    'Entrep. Activities NEC': 'entrepreneurial_activities_nec',\n",
    "    'Entrep. Activities NEC.1': 'entrepreneurial_activities_nec_1',\n",
    "    'Entrep. Activities NEC.2': 'entrepreneurial_activities_nec_2',\n",
    "    'Hhld, Income from Entrepreneurial Activities, Total': 'total_income_entrepreneurial_activities',\n",
    "    'Losses from EA': 'losses_from_entrepreneurial_activities',\n",
    "    'Cereal and Cereal Preparations (Total)': 'expenditure_cereal_preparations',\n",
    "    'Meat and Meat Preparations': 'expenditure_meat_preparations',\n",
    "    'Fish and Marine Products (Total)': 'expenditure_fish_marine_products',\n",
    "    'Dairy Products and Eggs (Total)': 'expenditure_dairy_eggs',\n",
    "    'Oils and Fats (Total)': 'expenditure_oils_fats',\n",
    "    'Fruits and Vegetables': 'expenditure_fruits_vegetables',\n",
    "    'Vegetables (Total)': 'expenditure_vegetables',\n",
    "    'Sugar, Jam and Honey (Total)': 'expenditure_sugar_jam_honey',\n",
    "    'Food Not Elsewhere Classified (Total)': 'expenditure_other_food',\n",
    "    'Fruit and vegetable juices': 'expenditure_fruit_vegetable_juices',\n",
    "    'Coffee, Cocoa and Tea (Total)': 'expenditure_coffee_cocoa_tea',\n",
    "    'Tea (total)  expenditure': 'expenditure_tea',\n",
    "    'Cocoa (total)  expenditure': 'expenditure_cocoa',\n",
    "    'Main Source of Water Supply (2nd visit only)': 'main_water_supply_second_visit',\n",
    "    'Softdrinks': 'expenditure_softdrinks',\n",
    "    'Other Non Alcoholic Beverages': 'expenditure_non_alcoholic_beverages',\n",
    "    'Alcoholic Beverages (Total)': 'expenditure_alcoholic_beverages',\n",
    "    'Tobacco (Total)': 'expenditure_tobacco',\n",
    "    'Other Vegetables (Total)': 'expenditure_other_vegetables',\n",
    "    'Services_Primary_Goods': 'expenditure_services_primary_goods',\n",
    "    'Alcohol Procduction Services': 'expenditure_alcohol_production_services',\n",
    "    'Total Food Consumed at Home (Total)': 'total_food_consumed_home',\n",
    "    'Food Regularly Consumed Outside The Home (Total)': 'food_consumed_outside_home',\n",
    "    'Hhld, Food': 'household_food_expenditure',\n",
    "    'Clothing, Footwear and Other Wear': 'expenditure_clothing_footwear',\n",
    "    'Housing and water (Total)': 'expenditure_housing_water',\n",
    "    'Actual House Rent': 'actual_house_rent',\n",
    "    'Imputed House Rental Value': 'imputed_house_rental_value',\n",
    "    'Imputed Housing Benefit Rental Value': 'imputed_housing_benefit_rental_value',\n",
    "    'House Rent/Rental Value': 'house_rent_rental_value',\n",
    "    'Furnishings, Household Equipment & Routine Household Mainte': 'expenditure_furnishings_household_maintenance',\n",
    "    'Health (Total)': 'expenditure_health',\n",
    "    'Transportation (Total)': 'expenditure_transportation',\n",
    "    'Communication (Total)': 'expenditure_communication',\n",
    "    'Recreation and Culture (Total)': 'expenditure_recreation_culture',\n",
    "    'Education (Total)': 'expenditure_education',\n",
    "    'Insurance': 'expenditure_insurance',\n",
    "    'Miscellaneous Goods and Services (Total)': 'expenditure_miscellaneous_goods_services',\n",
    "    'Durable Furniture': 'expenditure_durable_furniture',\n",
    "    'Special Family Occasion': 'expenditure_special_family_occasion',\n",
    "    'Other Expenditure (inc. Value Consumed, Losses)': 'other_expenditure',\n",
    "    'Other Disbursements': 'other_disbursements',\n",
    "    'Accomodation Services': 'expenditure_accommodation_services',\n",
    "    'Total Non-Food Expenditure': 'total_non_food_expenditure',\n",
    "    'Hhld, Income, Total': 'total_household_income',\n",
    "    'Hhld, Expenditures, Total': 'total_household_expenditures',\n",
    "    'Total Household Disbursements': 'total_household_disbursements',\n",
    "    'Other Receipts': 'other_receipts',\n",
    "    'Total Receipts': 'total_receipts',\n",
    "    'Psu (Recode)': 'psu_recode',\n",
    "    'Raising Factor': 'raising_factor',\n",
    "    'Final Population Weights': 'final_population_weights',\n",
    "    'Urban / Rural': 'urban_rural',\n",
    "    'Per Capita Income': 'per_capita_income',\n",
    "    'NPCINC': 'national_per_capita_income',\n",
    "    'RPCINC': 'regional_per_capita_income',\n",
    "    'Per Capita Income Decile (Province)': 'per_capita_income_decile_province',\n",
    "    'pPCINC': 'provincial_per_capita_income_decile',\n",
    "    'Per Capita Income Decile (Region with Negros Island Region (NIR))': 'per_capita_income_decile_region_nir',\n",
    "    'Region (with NIR)': 'region_with_nir'\n",
    "})"
   ]
  },
  {
   "cell_type": "markdown",
   "metadata": {},
   "source": [
    "### Dropping unnamed_13 column\n"
   ]
  },
  {
   "cell_type": "markdown",
   "metadata": {},
   "source": [
    "We opted to total the unnamed column and Other sources of income NEC because the unnamed column contributes to the total income of the household as some of the total income were inaccurate if the unnamed column wans't included\n"
   ]
  },
  {
   "cell_type": "code",
   "execution_count": 44,
   "metadata": {},
   "outputs": [],
   "source": [
    "# Adding the value of unnamed_13 to the other_income_nec column\n",
    "fies_df['other_income_nec'] = fies_df['other_income_nec'] + fies_df['unnamed_13']\n",
    "fies_df = fies_df.drop(columns=['unnamed_13'])"
   ]
  },
  {
   "cell_type": "markdown",
   "metadata": {},
   "source": [
    "### Datatype Standardization\n"
   ]
  },
  {
   "cell_type": "code",
   "execution_count": null,
   "metadata": {},
   "outputs": [],
   "source": [
    "fies_df.info()"
   ]
  },
  {
   "cell_type": "code",
   "execution_count": null,
   "metadata": {},
   "outputs": [],
   "source": [
    "# Select float columns\n",
    "float_columns = fies_df.select_dtypes(include=['float']).columns\n",
    "\n",
    "# Find columns where all values are integers (i.e., decimal part is 0)\n",
    "integer_float_columns = [col for col in float_columns if (fies_df[col] == fies_df[col].astype(int)).all()]\n",
    "\n",
    "# Check if there are any integer float columns\n",
    "if not integer_float_columns:\n",
    "    print(\"No float columns with all values having a decimal part of 0.\")\n",
    "else:\n",
    "    # Print the columns that meet the criteria and their data\n",
    "    for col in integer_float_columns:\n",
    "        print(f\"Column: {col}\")\n",
    "        print(fies_df[col].to_string(index=False))  # Printing without the index for better readability\n",
    "        print()  # Add a blank line for separation\n"
   ]
  },
  {
   "cell_type": "markdown",
   "metadata": {},
   "source": [
    "### Feature Engineering (Unfinished)\n"
   ]
  },
  {
   "cell_type": "code",
   "execution_count": 47,
   "metadata": {},
   "outputs": [],
   "source": [
    "# Income-to-Expenditure Ratio\n",
    "# fies_df['income_expenditure_ratio'] = fies_df['total_household_income'] / fies_df['total_household_expenditures']"
   ]
  },
  {
   "cell_type": "markdown",
   "metadata": {},
   "source": [
    "### Summary Statistics\n"
   ]
  },
  {
   "cell_type": "markdown",
   "metadata": {},
   "source": [
    "We separate the dataset based on two variables, Income and Expenditure. We then calculate the summary statistics for each section.\n"
   ]
  },
  {
   "cell_type": "code",
   "execution_count": 48,
   "metadata": {},
   "outputs": [],
   "source": [
    "income_columns = ['regular_salaries_wages',\n",
    "                  'seasonal_salaries_wages',\n",
    "                  'total_salaries_wages',\n",
    "                  'net_crop_fruit_share',\n",
    "                  'cash_receipts_abroad',\n",
    "                  'cash_receipts_domestic',\n",
    "                  'non_agri_land_rentals',\n",
    "                  'pension_retirement_benefits',\n",
    "                  'dividends_from_investment',\n",
    "                  'other_income_nec',\n",
    "                  'family_sustenance_activities',\n",
    "                  'total_gifts_received',\n",
    "                  'income_crop_farming',\n",
    "                  'income_livestock_poultry',\n",
    "                  'income_fishing',\n",
    "                  'income_forestry_hunting',\n",
    "                  'income_wholesale_retail',\n",
    "                  'income_manufacturing',\n",
    "                  'income_transport_storage',\n",
    "                  'entrepreneurial_activities_nec',\n",
    "                  'entrepreneurial_activities_nec_1',\n",
    "                  'entrepreneurial_activities_nec_2',\n",
    "                  'other_receipts',\n",
    "                  'total_receipts',\n",
    "                  'total_income_entrepreneurial_activities',\n",
    "                  'total_household_income',\n",
    "]\n",
    "\n",
    "expenditure_columns = ['losses_from_entrepreneurial_activities',\n",
    "                       'expenditure_cereal_preparations',\n",
    "                       'expenditure_meat_preparations',\n",
    "                       'expenditure_fish_marine_products',\n",
    "                       'expenditure_dairy_eggs',\n",
    "                       'expenditure_oils_fats',\n",
    "                       'expenditure_fruits_vegetables',\n",
    "                       'expenditure_vegetables',\n",
    "                       'expenditure_sugar_jam_honey',\n",
    "                       'expenditure_other_food',\n",
    "                       'expenditure_fruit_vegetable_juices',\n",
    "                       'main_water_supply_second_visit',\n",
    "                       'expenditure_coffee_cocoa_tea',\n",
    "                       'expenditure_tea',\n",
    "                       'expenditure_cocoa',\n",
    "                       'expenditure_softdrinks',\n",
    "                       'expenditure_non_alcoholic_beverages',\n",
    "                       'total_food_consumed_home',\n",
    "                       'food_consumed_outside_home',\n",
    "                       'expenditure_alcoholic_beverages',\n",
    "                       'expenditure_tobacco',\n",
    "                       'expenditure_other_vegetables',\n",
    "                       'expenditure_services_primary_goods',\n",
    "                       'expenditure_alcohol_production_services',\n",
    "                       'household_food_expenditure',\n",
    "                       'expenditure_clothing_footwear',\n",
    "                       'expenditure_housing_water',\n",
    "                       'expenditure_furnishings_household_maintenance',\n",
    "                       'expenditure_health',\n",
    "                       'expenditure_transportation',\n",
    "                       'expenditure_communication',\n",
    "                       'expenditure_recreation_culture',\n",
    "                       'expenditure_education',\n",
    "                       'expenditure_insurance',\n",
    "                       'expenditure_miscellaneous_goods_services',\n",
    "                       'expenditure_durable_furniture',\n",
    "                       'expenditure_special_family_occasion',\n",
    "                       'other_expenditure',\n",
    "                       'other_disbursements',\n",
    "                       'expenditure_accommodation_services',\n",
    "                       'actual_house_rent',\n",
    "                    #    'total_non_food_expenditure',\n",
    "                    #    'total_household_expenditures',\n",
    "                    #    'total_household_disbursements',\n",
    "]\n",
    "\n",
    "id_columns = ['rdmd_id',\n",
    "              'region',\n",
    "              'province',\n",
    "              'household_id',\n",
    "              'recoded_province',\n",
    "              'region_with_nir'\n",
    "]\n",
    "\n",
    "misc_columns = ['family_size',\n",
    "                'imputed_house_rental_value',\n",
    "                'imputed_housing_benefit_rental_value',\n",
    "                'house_rent_rental_value',\n",
    "                'psu_recode',\n",
    "                'raising_factor',\n",
    "                'final_population_weights',\n",
    "                'urban_rural',\n",
    "                'per_capita_income',\n",
    "                'national_per_capita_income',\n",
    "                'regional_per_capita_income',\n",
    "                'per_capita_income_decile_province',\n",
    "                'provincial_per_capita_income_decile',\n",
    "                'per_capita_income_decile_region_nir',\n",
    "]"
   ]
  },
  {
   "cell_type": "markdown",
   "metadata": {},
   "source": [
    "For reference only:\n",
    "\n",
    "total food consumed at home:\n",
    "\n",
    "    'expenditure_cereal_preparations',\n",
    "    'expenditure_meat_preparations',\n",
    "    'expenditure_fish_marine_products',\n",
    "    'expenditure_dairy_eggs',\n",
    "    'expenditure_oils_fats',\n",
    "    'expenditure_fruits_vegetables',\n",
    "    'expenditure_vegetables',\n",
    "    'expenditure_sugar_jam_honey',\n",
    "    'expenditure_other_food',\n",
    "    'expenditure_fruit_vegetable_juices',\n",
    "    'main_water_supply_second_visit',\n",
    "    'expenditure_coffee_cocoa_tea',\n",
    "    'expenditure_tea',\n",
    "    'expenditure_cocoa',\n",
    "    'expenditure_softdrinks',\n",
    "    'expenditure_non_alcoholic_beverages',\n",
    "\n",
    "Total household Income:\n"
   ]
  },
  {
   "cell_type": "code",
   "execution_count": null,
   "metadata": {},
   "outputs": [],
   "source": [
    "# Summary Statistics for Income (Mean, Median, Mode, Standard Deviation)\n",
    "\n",
    "income_summary = fies_df[income_columns].describe()\n",
    "print(income_summary)"
   ]
  },
  {
   "cell_type": "code",
   "execution_count": null,
   "metadata": {},
   "outputs": [],
   "source": [
    "# Summary Statistics for Expenditure (Mean, Median, Mode, Standard Deviation)\n",
    "\n",
    "expenditure_summary = fies_df[expenditure_columns].describe()\n",
    "print(expenditure_summary)"
   ]
  },
  {
   "cell_type": "markdown",
   "metadata": {},
   "source": [
    "## Preliminary Visualization\n"
   ]
  },
  {
   "cell_type": "code",
   "execution_count": null,
   "metadata": {},
   "outputs": [],
   "source": [
    "# Create a dictionary to map the column names to more user-friendly labels\n",
    "expenditure_labels = {\n",
    "    'losses_from_entrepreneurial_activities': 'Losses from Entrepreneurial Activities',\n",
    "    'expenditure_cereal_preparations': 'Cereal Preparations',\n",
    "    'expenditure_meat_preparations': 'Meat Preparations',\n",
    "    'expenditure_fish_marine_products': 'Fish and Marine Products',\n",
    "    'expenditure_dairy_eggs': 'Dairy Products and Eggs',\n",
    "    'expenditure_oils_fats': 'Oils and Fats',\n",
    "    'expenditure_fruits_vegetables': 'Fruits and Vegetables',\n",
    "    'expenditure_vegetables': 'Vegetables',\n",
    "    'expenditure_sugar_jam_honey': 'Sugar, Jam, and Honey',\n",
    "    'expenditure_other_food': 'Other Food (not classified)',\n",
    "    'expenditure_fruit_vegetable_juices': 'Fruit and Vegetable Juices',\n",
    "    'expenditure_coffee_cocoa_tea': 'Coffee, Cocoa, and Tea',\n",
    "    'expenditure_tea': 'Tea',\n",
    "    'expenditure_cocoa': 'Cocoa',\n",
    "    'expenditure_softdrinks': 'Soft Drinks',\n",
    "    'expenditure_non_alcoholic_beverages': 'Other Non-Alcoholic Beverages',\n",
    "    'expenditure_alcoholic_beverages': 'Alcoholic Beverages',\n",
    "    'expenditure_tobacco': 'Tobacco',\n",
    "    'expenditure_other_vegetables': 'Other Vegetables',\n",
    "    'expenditure_services_primary_goods': 'Services and Primary Goods',\n",
    "    'expenditure_alcohol_production_services': 'Alcohol Production Services',\n",
    "    'household_food_expenditure': 'Household Food Expenditure',\n",
    "    'expenditure_clothing_footwear': 'Clothing, Footwear, and Other Wear',\n",
    "    'expenditure_housing_water': 'Housing Water',\n",
    "    'expenditure_furnishings_household_maintenance': 'Furnishings, Household Equipment, and Maintenance',\n",
    "    'expenditure_health': 'Health',\n",
    "    'expenditure_transportation': 'Transportation',\n",
    "    'expenditure_communication': 'Communication',\n",
    "    'expenditure_recreation_culture': 'Recreation and Culture',\n",
    "    'expenditure_education': 'Education',\n",
    "    'expenditure_insurance': 'Insurance',\n",
    "    'expenditure_miscellaneous_goods_services': 'Miscellaneous Goods and Services',\n",
    "    'expenditure_durable_furniture': 'Durable Furniture',\n",
    "    'expenditure_special_family_occasion': 'Special Family Occasions',\n",
    "    'other_expenditure': 'Other Expenditure (including Losses)',\n",
    "    'other_disbursements': 'Other Disbursements',\n",
    "    'expenditure_accommodation_services': 'Accommodation Services',\n",
    "    # 'total_non_food_expenditure': 'Total Non-Food Expenditure',\n",
    "    # 'total_household_expenditures': 'Total Household Expenditure',\n",
    "    # 'total_household_disbursements': 'Total Household Disbursements',\n",
    "}"
   ]
  },
  {
   "cell_type": "code",
   "execution_count": null,
   "metadata": {},
   "outputs": [],
   "source": [
    "import matplotlib.pyplot as plt\n",
    "# Step 1: Convert expenditure columns to numeric, coercing errors (non-numeric values will be set as NaN)\n",
    "fies_df[expenditure_columns] = fies_df[expenditure_columns].apply(pd.to_numeric, errors='coerce')\n",
    "\n",
    "# Step 2: Calculate mean and total for each expenditure column\n",
    "mean_expenditures = fies_df[expenditure_columns].mean().sort_values(ascending=True)\n",
    "total_expenditures = fies_df[expenditure_columns].sum().sort_values(ascending=True)\n",
    "\n",
    "# Replace column names with friendly labels\n",
    "mean_expenditures_friendly = mean_expenditures.rename(index=expenditure_labels)\n",
    "total_expenditures_friendly = total_expenditures.rename(index=expenditure_labels)\n",
    "\n",
    "# Step 3: Plot the mean expenditures\n",
    "plt.figure(figsize=(12, 6))\n",
    "mean_expenditures_friendly.plot(kind='barh', color='skyblue')\n",
    "plt.title('Mean Expenditure per Category')\n",
    "plt.xlabel('Mean Expenditure')\n",
    "plt.xticks(rotation=90)\n",
    "plt.tight_layout()\n",
    "plt.show()\n",
    "\n",
    "# Step 4: Plot the total expenditures\n",
    "plt.figure(figsize=(12, 6))\n",
    "total_expenditures_friendly.plot(kind='barh', color='salmon')\n",
    "plt.title('Total Expenditure per Category')\n",
    "plt.xlabel('Total Expenditure')\n",
    "plt.xticks(rotation=90)\n",
    "plt.tight_layout()\n",
    "plt.show()"
   ]
  },
  {
   "cell_type": "markdown",
   "metadata": {},
   "source": [
    "Justification:\n",
    "- we use a map to make the categories more readable.\n",
    "\n",
    "Insights:\n",
    "\n",
    "1. Targeted Marketing: Businesses can identify which expenditure categories (e.g., food, transportation, health) have the highest average spending or overall spending, allowing them to tailor their products or services to meet consumer demand in specific sectors.\n",
    "\n",
    "2. Market Trends: By analyzing expenditure data over time, businesses can spot trends in consumer behavior, which can inform strategic planning and investment decisions.\n",
    "\n",
    "3. Budget Planning: For policymakers and organizations, this data aids in budget allocation and financial planning, ensuring that funding aligns with actual consumer needs and priorities.\n",
    "\n",
    "4. Competitive Advantage: Companies can gain insights into competitors’ market positions by understanding where consumers are spending their money, enabling them to adjust their strategies accordingly."
   ]
  },
  {
   "cell_type": "code",
   "execution_count": null,
   "metadata": {},
   "outputs": [],
   "source": [
    "region_mapping = {\n",
    "    1: 'I',            # Region I - Ilocos\n",
    "    2: 'II',           # Region II - Cagayan Valley\n",
    "    3: 'III',          # Region III - Central Luzon\n",
    "    4: 'IV-A',         # Region IV-A - CALABARZON\n",
    "    5: 'V',            # Region V - Bicol\n",
    "    6: 'VI',           # Region VI - Western Visayas\n",
    "    7: 'VII',          # Region VII - Central Visayas\n",
    "    8: 'VIII',         # Region VIII - Eastern Visayas\n",
    "    9: 'IX',           # Region IX - Zamboanga Peninsula\n",
    "    10: 'X',           # Region X - Northern Mindanao\n",
    "    11: 'XI',          # Region XI - Davao\n",
    "    12: 'XII',         # Region XII - SOCCSKSARGEN\n",
    "    13: 'NCR',         # National Capital Region\n",
    "    14: 'CAR',         # Cordillera Administrative Region\n",
    "    15: 'ARMM',        # Bangsamoro Autonomous Region in Muslim Mindanao\n",
    "    16: 'XIII',        # Region XIII - Caraga\n",
    "    17: 'IV-B'         # Region IV-B - MIMAROPA\n",
    "}"
   ]
  },
  {
   "cell_type": "code",
   "execution_count": null,
   "metadata": {},
   "outputs": [],
   "source": [
    "import pandas as pd\n",
    "import matplotlib.pyplot as plt\n",
    "import seaborn as sns\n",
    "\n",
    "# Assuming fies_df is already defined and renamed\n",
    "\n",
    "# Calculate average house rent by region (keep using integer values)\n",
    "average_rent_by_region = fies_df.groupby('region')['house_rent_rental_value'].mean().reset_index()\n",
    "\n",
    "# Rename the region index using the mapping\n",
    "average_rent_by_region_friendly = average_rent_by_region.rename(columns={'region': 'region_index'})\n",
    "average_rent_by_region_friendly['region'] = average_rent_by_region_friendly['region_index'].map(region_mapping)\n",
    "\n",
    "# Sort values for better visualization\n",
    "average_rent_by_region_friendly = average_rent_by_region_friendly.sort_values(by='house_rent_rental_value')\n",
    "\n",
    "# Set up the matplotlib figure\n",
    "plt.figure(figsize=(12, 6))\n",
    "\n",
    "# Create a bar plot\n",
    "sns.barplot(x='region', y='house_rent_rental_value', data=average_rent_by_region_friendly)\n",
    "\n",
    "# Add titles and labels\n",
    "plt.title('Average House Rent/Rental Value by Region', fontsize=16)\n",
    "plt.xlabel('Region', fontsize=14)\n",
    "plt.ylabel('Average Rental Value', fontsize=14)\n",
    "\n",
    "# Show the plot\n",
    "plt.show()"
   ]
  },
  {
   "cell_type": "markdown",
   "metadata": {},
   "source": [
    "Justification:\n",
    "- We used a map to display in the graph the regions number specifically instead of the original 0-17 values which can cause confusions as there are regions such as NCR that is not numbered like region 1, 2, and so on. The region names are based on the PSA's record of 'Summary of Changes made in the Philippines Standard Geographic Code Since 2001'. In this record, the code for each region is showed by the code's first two digits. For instance, Region 9 starting code is 09 followed by the more specific place (municipality / city).\n",
    "\n",
    "Insights:\n",
    "1. Investment Decisions: The average rental values provide critical insights for potential investors looking to purchase properties, as they highlight regions with higher or lower rental income potential. for example, NCR has the highest average of house rent which can mean the demand for a place to stay in NCR is higher compared to other regions.\n",
    "\n",
    "2. Regional Differences: The visualization illustrates the disparities in housing rental values across different regions, aiding in identifying profitable investment areas."
   ]
  },
  {
   "cell_type": "markdown",
   "metadata": {},
   "source": [
    "## Preliminary Machine Learning Model\n",
    "\n",
    "Here are some tailored **machine learning models** based on the structure of your dataset and potential use cases:\n",
    "\n",
    "### **Classification Models for Income/Expenditure Brackets**\n",
    "\n",
    "If you're interested in **classifying households** into income or expenditure brackets (e.g., low-income vs. high-income households), consider these classification models:\n",
    "\n",
    "#### **Support Vector Machines (SVM)**\n",
    "\n",
    "- **Use case**: If your goal is to classify households into specific income or expenditure categories, especially when the decision boundaries are non-linear.\n",
    "- **Why**: SVMs handle complex, high-dimensional data well but may require scaling and tuning for large datasets.\n",
    "\n",
    "### **Clustering for Household Segmentation**\n",
    "\n",
    "If you're looking to **segment households** based on income, expenditure, or other factors, clustering models could help:\n",
    "\n",
    "#### **DBSCAN** (Density-Based Spatial Clustering)\n",
    "\n",
    "- **Use case**: If you expect household segments to be irregularly shaped (e.g., a group of households with similar income but varied expenditures).\n",
    "- **Why**: DBSCAN is good at discovering clusters with arbitrary shapes and identifying outliers, which might be useful for detecting unique spending patterns.\n",
    "\n",
    "### **Anomaly Detection**\n",
    "\n",
    "For identifying **anomalies in household expenditure** (e.g., very high or low expenses in a particular category), you could use:\n",
    "\n",
    "#### a. **Isolation Forest**\n",
    "\n",
    "- **Use case**: Detecting anomalous households with unusual expenditures or income patterns.\n",
    "- **Why**: This model is effective for detecting outliers, such as households with extreme values in certain spending categories.\n",
    "\n",
    "### Next Steps\n",
    "\n",
    "1. **Data Preprocessing**: Consider normalizing/standardizing continuous features (like income, expenditure) and encoding categorical variables (e.g., _Region_, _Urban/Rural_).\n",
    "2. **Feature Selection**: Start with tree-based models to identify key predictors (using feature importance) and potentially use **PCA** for dimensionality reduction.\n",
    "3. **Model Evaluation**: Use cross-validation and metrics like **RMSE** (for regression) or **F1-score** (for classification) to assess model performance.\n"
   ]
  },
  {
   "cell_type": "markdown",
   "metadata": {},
   "source": [
    "## Insights\n"
   ]
  }
 ],
 "metadata": {
  "kernelspec": {
   "display_name": "Python 3",
   "language": "python",
   "name": "python3"
  },
  "language_info": {
   "codemirror_mode": {
    "name": "ipython",
    "version": 3
   },
   "file_extension": ".py",
   "mimetype": "text/x-python",
   "name": "python",
   "nbconvert_exporter": "python",
   "pygments_lexer": "ipython3",
   "version": "3.12.1"
  }
 },
 "nbformat": 4,
 "nbformat_minor": 2
}
